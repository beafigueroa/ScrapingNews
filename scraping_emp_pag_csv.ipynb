{
 "cells": [
  {
   "cell_type": "code",
   "execution_count": 1,
   "metadata": {},
   "outputs": [],
   "source": [
    "from bs4 import BeautifulSoup\n",
    "import requests"
   ]
  },
  {
   "cell_type": "code",
   "execution_count": 2,
   "metadata": {},
   "outputs": [],
   "source": [
    "#retina - emprendimiento\n",
    "url = 'https://retina.elpais.com/tag/iniciativa_empresarial/a/'\n"
   ]
  },
  {
   "cell_type": "code",
   "execution_count": 57,
   "metadata": {},
   "outputs": [
    {
     "name": "stdout",
     "output_type": "stream",
     "text": [
      "5 [0, 1, 2, 3, 4, 5]\n",
      "[u'24 horas', u'Negocio', u'A golpe de Retina', u'A golpe de Retina', u'Aceleradoras', u'Talento', u\"'Startups'\", u'Firma invitada', u'Patentes', u'Emprendedores', u'Emprendedores', u'Startups', u'Emprendimiento', u'Trabajo', u'A golpe de Retina', u\"'Startups'\", u'El podio', u'Espacios', u'Urbanismo', u'Ideas Retina', u'Talento', u'Im\\xe1genes', u'Innovaci\\xf3n', u'Cadena Ser para Informa', u'Emprendedores', u'Emprendedores', u'IoT', u'A golpe de Retina', u'Entorno digital', u'Empleo', u'Firma invitada', u\"'Startups'\", u'A golpe de Retina']\n",
      "['2019-04-04T07:45:06+02:00', '2019-04-04T07:45:06+02:00', '2019-04-04T07:45:06+02:00', '2019-04-04T07:45:06+02:00', '2019-04-04T07:45:06+02:00', '2019-04-04T07:45:06+02:00', '2019-04-04T07:45:06+02:00', '2019-04-04T07:45:06+02:00', '2019-04-04T07:45:06+02:00', '2019-04-04T07:45:06+02:00', '2019-04-04T07:45:06+02:00', '2019-04-04T07:45:06+02:00', '2019-04-04T07:45:06+02:00', '2019-04-04T07:45:06+02:00', '2019-04-04T07:45:06+02:00', '2019-04-04T07:45:06+02:00', '2019-04-04T07:45:06+02:00', '2019-04-04T07:45:06+02:00', '2019-04-04T07:45:06+02:00', '2019-04-04T07:45:06+02:00', '2019-04-04T07:45:06+02:00', '2019-04-04T07:45:06+02:00', '2019-04-04T07:45:06+02:00', '2019-04-04T07:45:06+02:00', '2019-04-04T07:45:06+02:00', '2019-04-04T07:45:06+02:00', '2019-04-04T07:45:06+02:00', '2019-04-04T07:45:06+02:00', '2019-04-04T07:45:06+02:00', '2019-04-04T07:45:06+02:00', '2019-04-04T07:45:06+02:00', '2019-04-04T07:45:06+02:00', '2019-04-04T07:45:06+02:00']\n",
      "33\n",
      "33\n",
      "33\n",
      "33\n",
      "34\n"
     ]
    }
   ],
   "source": [
    "index = ['0', '1']\n",
    "title = []\n",
    "link = []\n",
    "date = []\n",
    "section = []\n",
    "autor = []\n",
    "\n",
    "#beafigueroa: Buscamos el botón >\n",
    "res_pag = requests.get(url)\n",
    "soup_pag = BeautifulSoup(res_pag.text, 'lxml')\n",
    "#El botón está en <li class=\"paginacion-siguiente activo\"><a href=\"XXXXXXX\">Siguiente ›</a></li>\n",
    "link_pag = soup_pag.find('li', {'class': 'paginacion-siguiente activo'}).a['href'] \n",
    "#Al final de la cadena del link está el número de páginas que tiene la sección\n",
    "num_pag = int(link_pag.split('/')[-1])\n",
    "index = range(num_pag+1) #El orden real de páginas tendría que ser [0,5,4,3,2,1] pero así funciona.\n",
    "print num_pag, index\n",
    "\n",
    "index = ['0']\n",
    "for number in index:\n",
    "    res = requests.get(url+str(number)) #beafigueroa: Index ahora tiene int, para concatenar lo cambio a str\n",
    "    soup = BeautifulSoup(res.text, 'lxml')\n",
    "    \n",
    "    title_test = soup.find_all('h2', {'class': 'articulo-titulo'})\n",
    "\n",
    "\n",
    "    for word in title_test:\n",
    "        new_title = word.text\n",
    "        title.append(new_title)\n",
    "#beafigueroa: Recoge el link al artículo y dentro del link recoge la fecha    \n",
    "        \n",
    "#        for children in soup.h2.children:  #beafigueroa: Cambio este for por el código concatenado:\n",
    "        new_link = \"https://retina.elpais.com\"+soup.find('h2', {'class': 'articulo-titulo'}).a['href']  \n",
    "        res_link = requests.get(new_link)\n",
    "        soup_link = BeautifulSoup(res_link.text, 'lxml')\n",
    "        new_date = soup_link.time['datetime']\n",
    "        link.append(new_link)\n",
    "        date.append(new_date)\n",
    "    \n",
    "    art = soup.find_all('div', {'class':'articulo-antetitulo'})\n",
    "\n",
    "    for news in art:\n",
    "        new_section = news.text\n",
    "        section.append(new_section.replace(\"\\n\", \"\")) #le quitamos \\n para que no salte de línea el csv\n",
    "        \n",
    "    autor_test = soup.find_all('div', {'class':'autor-texto'})\n",
    "\n",
    "    for name in autor_test:\n",
    "        new_name = name.text\n",
    "        autor.append(new_name.replace(\"\\n\", \"\")) #le quitamos \\n para que no salte de línea el csv\n",
    "  \n",
    "\n",
    "print len(title)\n",
    "print len(link)\n",
    "print len(date)\n",
    "print len(section)\n",
    "print len(autor)\n"
   ]
  },
  {
   "cell_type": "code",
   "execution_count": 17,
   "metadata": {},
   "outputs": [],
   "source": [
    "# ¡¡FUNCIONA PARA PASAR A XLS!! Falta autor\n",
    "\n",
    "import pandas as pd\n",
    "data = {'Title':title, \n",
    "        'PageLink':link,\n",
    "        'Date':date,\n",
    "        'Section':section\n",
    "        }\n",
    "#        'Author':autor\n",
    "news = pd.DataFrame(data=data)\n",
    "news.head(5)\n",
    "#cols = ['Title', 'PageLink', 'Date', 'Section', 'Author']\n",
    "cols = ['Title', 'PageLink', 'Date', 'Section']\n",
    "news = news[cols]\n",
    "#retina_news = oldnews.append(news)\n",
    "retina_news = news\n",
    "filename = 'retina_news1.xlsx'\n",
    "wks_name = 'Data'\n",
    "writer = pd.ExcelWriter(filename)\n",
    "retina_news.to_excel(writer, wks_name, index=False)\n",
    "writer.save()"
   ]
  },
  {
   "cell_type": "code",
   "execution_count": 59,
   "metadata": {},
   "outputs": [],
   "source": [
    "# ¡¡FUNCIONA PARA PASAR A CSV!! Falta autor\n",
    "\n",
    "import pandas as pd\n",
    "import csv\n",
    "data = {'Title':title, \n",
    "        'PageLink':link,\n",
    "        'Date':date,\n",
    "        'Section':section\n",
    "        }\n",
    "#        'Author':autor\n",
    "\n",
    "news = pd.DataFrame(data=data)\n",
    "\n",
    "#cols = ['Title', 'PageLink', 'Date', 'Section', 'Author']\n",
    "cols = ['Title', 'PageLink', 'Date', 'Section']\n",
    "news = news[cols]\n",
    "\n",
    "filename = 'retina_news.csv'\n",
    "\n",
    "news.to_csv(filename, index=False, encoding='utf-8-sig', header=True, sep='|')\n"
   ]
  }
 ],
 "metadata": {
  "kernelspec": {
   "display_name": "Python 2",
   "language": "python",
   "name": "python2"
  },
  "language_info": {
   "codemirror_mode": {
    "name": "ipython",
    "version": 2
   },
   "file_extension": ".py",
   "mimetype": "text/x-python",
   "name": "python",
   "nbconvert_exporter": "python",
   "pygments_lexer": "ipython2",
   "version": "2.7.15"
  }
 },
 "nbformat": 4,
 "nbformat_minor": 2
}
