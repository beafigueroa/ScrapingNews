{
 "cells": [
  {
   "cell_type": "code",
   "execution_count": 1,
   "metadata": {},
   "outputs": [],
   "source": [
    "from bs4 import BeautifulSoup\n",
    "import requests"
   ]
  },
  {
   "cell_type": "code",
   "execution_count": 2,
   "metadata": {},
   "outputs": [],
   "source": [
    "#retina - emprendimiento\n",
    "url = 'https://retina.elpais.com/tag/iniciativa_empresarial/a/'\n"
   ]
  },
  {
   "cell_type": "code",
   "execution_count": 50,
   "metadata": {},
   "outputs": [
    {
     "name": "stdout",
     "output_type": "stream",
     "text": [
      "5 [0, 1, 2, 3, 4, 5]\n",
      "30\n",
      "[u'Jaime Porras Ferreyra', u'Jorge G. Garc\\xeda', u'El Pa\\xeds Retina', u'Javier Cort\\xe9s', u'Manuel G. Pascual', u'El Pa\\xeds Retina', u'Rebeca Gimeno', u'El Pa\\xeds Retina', u'Rebeca Gimeno', u'Manuel Gonz\\xe1lez Pascual', u'Rafael Tamames', u'David del Val', 'No autor', u'Rosa Jim\\xe9nez Cano', u'M. Victoria S. Nadal', u'El Pa\\xeds Retina', u'Javier Cort\\xe9s', u'Tom\\xe1s L\\xf3pez Morales', u'Esther Paniagua', u'Zigor Aldama', u'Mariano Ahijado', u'Hugo Guti\\xe9rrez', u'Rebeca Gimeno', u'Carlos Barrab\\xe9s', u'Tom\\xe1s L\\xf3pez Morales', u'Tom\\xe1s L\\xf3pez Morales', u'El Pa\\xeds Retina', u'Guillermo Vega', u'Denise Zani', u'Zigor Aldama']\n",
      "30\n",
      "30\n",
      "30\n"
     ]
    }
   ],
   "source": [
    "title = []\n",
    "link = []\n",
    "date = []\n",
    "section = []\n",
    "autor = []\n",
    "\n",
    "#beafigueroa: Buscamos el botón >\n",
    "res_pag = requests.get(url)\n",
    "soup_pag = BeautifulSoup(res_pag.text, 'lxml')\n",
    "#El botón está en <li class=\"paginacion-siguiente activo\"><a href=\"XXXXXXX\">Siguiente ›</a></li>\n",
    "link_pag = soup_pag.find('li', {'class': 'paginacion-siguiente activo'}).a['href'] \n",
    "#Al final de la cadena del link está el número de páginas que tiene la sección\n",
    "num_pag = int(link_pag.split('/')[-1])\n",
    "index = range(num_pag+1) #El orden real de páginas tendría que ser [0,5,4,3,2,1] pero así funciona.\n",
    "print num_pag, index\n",
    "\n",
    "index =['3']\n",
    "for number in index:\n",
    "    res = requests.get(url+str(number)) #beafigueroa: Index ahora tiene int, para concatenar lo cambio a str\n",
    "    soup = BeautifulSoup(res.text, 'lxml')\n",
    "       \n",
    "    for i in soup.find_all('h2', {'class': 'articulo-titulo'}):\n",
    "        article_link = i.a['href']\n",
    "        title = i.get_text()\n",
    "        \n",
    "        \n",
    "        new_link = \"https://retina.elpais.com\"+article_link\n",
    "        res_link = requests.get(new_link)\n",
    "        soup_link = BeautifulSoup(res_link.text, 'lxml')\n",
    "        new_date = soup_link.time['datetime']\n",
    "        \n",
    "        new_autor = soup_link.find('div', {'class':'firma'})\n",
    "        if not new_autor:\n",
    "            new_autor = 'No autor'\n",
    "        else:\n",
    "            new_autor = new_autor.a.get_text()\n",
    "        \n",
    "        autor.append(new_autor.replace(\"\\n\", \"\"))\n",
    "        link.append(new_link)\n",
    "        date.append(new_date)\n",
    "        \n",
    "        art = soup_link.find('div', {'class':'articulo-antetitulo'})\n",
    "        if not art:\n",
    "            art = 'no section'\n",
    "        else:\n",
    "            art = art.get_text()\n",
    "        section.append(new_autor.replace(\"\\n\", \"\"))\n",
    "         \n",
    "print len(autor)\n",
    "print section\n",
    "print len(link)\n",
    "print len(date)\n",
    "print len(section) "
   ]
  },
  {
   "cell_type": "code",
   "execution_count": 48,
   "metadata": {},
   "outputs": [],
   "source": [
    "import pandas as pd\n",
    "import csv\n",
    "data = {'Title':title, \n",
    "        'PageLink':link,\n",
    "        'Date':date,\n",
    "        'Section':section\n",
    "        }\n",
    "#        'Author':autor\n",
    "\n",
    "news = pd.DataFrame(data=data)\n",
    "\n",
    "#cols = ['Title', 'PageLink', 'Date', 'Section', 'Author']\n",
    "cols = ['Title', 'PageLink', 'Date', 'Section']\n",
    "news = news[cols]\n",
    "\n",
    "filename = 'retina_news.csv'\n",
    "\n",
    "news.to_csv(filename, index=False, encoding='utf-8-sig', header=True, sep='|')"
   ]
  }
 ],
 "metadata": {
  "kernelspec": {
   "display_name": "Python 2",
   "language": "python",
   "name": "python2"
  },
  "language_info": {
   "codemirror_mode": {
    "name": "ipython",
    "version": 2
   },
   "file_extension": ".py",
   "mimetype": "text/x-python",
   "name": "python",
   "nbconvert_exporter": "python",
   "pygments_lexer": "ipython2",
   "version": "2.7.15"
  }
 },
 "nbformat": 4,
 "nbformat_minor": 2
}
