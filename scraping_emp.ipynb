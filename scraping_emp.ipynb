{
 "cells": [
  {
   "cell_type": "code",
   "execution_count": 1,
   "metadata": {},
   "outputs": [],
   "source": [
    "from bs4 import BeautifulSoup\n",
    "import requests"
   ]
  },
  {
   "cell_type": "code",
   "execution_count": 68,
   "metadata": {},
   "outputs": [],
   "source": [
    "#retina - emprendimiento\n",
    "url = 'https://retina.elpais.com/tag/iniciativa_empresarial/a/'\n"
   ]
  },
  {
   "cell_type": "code",
   "execution_count": 101,
   "metadata": {},
   "outputs": [
    {
     "name": "stdout",
     "output_type": "stream",
     "text": [
      "60\n"
     ]
    }
   ],
   "source": [
    "index = ['0', '1']\n",
    "title = []\n",
    "link = []\n",
    "date = []\n",
    "section = []\n",
    "autor = []\n",
    "for number in index:\n",
    "    res = requests.get(url+number) \n",
    "    soup = BeautifulSoup(res.text, 'lxml')\n",
    "    \n",
    "    title_test = soup.find_all('h2', {'class': 'articulo-titulo'})\n",
    "\n",
    "\n",
    "    for word in title_test:\n",
    "        new_title = word.text\n",
    "        title.append(new_title)\n",
    "#beafigueroa: Recoge el link al artículo y dentro del link recoge la fecha    \n",
    "                \n",
    "        for children in soup.h2.children:\n",
    "            new_link = \"https://retina.elpais.com\"+children['href']\n",
    "            res_link = requests.get(new_link)\n",
    "            soup_link = BeautifulSoup(res_link.text, 'lxml')\n",
    "            new_date = soup_link.time['datetime']\n",
    "            link.append(new_link)\n",
    "            date.append(new_date)\n",
    "    \n",
    "    art = soup.find_all('div', {'class':'articulo-antetitulo'})\n",
    "\n",
    "    for news in art:\n",
    "        new_section = news.text\n",
    "        section.append(new_section)\n",
    "        \n",
    "    autor_test = soup.find_all('div', {'class':'firma'})\n",
    "\n",
    "    for name in autor_test:\n",
    "        new_name = name.text\n",
    "        autor.append(new_name)\n",
    "        \n",
    "        \n",
    "print len(autor)\n"
   ]
  },
  {
   "cell_type": "code",
   "execution_count": 83,
   "metadata": {},
   "outputs": [],
   "source": [
    "import csv\n",
    "\n",
    "with open('news.csv', 'wb') as myfile:\n",
    "    wr = csv.writer(myfile, quoting=csv.QUOTE_ALL)\n",
    "    wr.writerow(autor)"
   ]
  }
 ],
 "metadata": {
  "kernelspec": {
   "display_name": "Python 2",
   "language": "python",
   "name": "python2"
  },
  "language_info": {
   "codemirror_mode": {
    "name": "ipython",
    "version": 2
   },
   "file_extension": ".py",
   "mimetype": "text/x-python",
   "name": "python",
   "nbconvert_exporter": "python",
   "pygments_lexer": "ipython2",
   "version": "2.7.15"
  }
 },
 "nbformat": 4,
 "nbformat_minor": 2
}
