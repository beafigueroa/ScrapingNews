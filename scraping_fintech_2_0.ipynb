{
 "cells": [
  {
   "cell_type": "code",
   "execution_count": 1,
   "metadata": {},
   "outputs": [],
   "source": [
    "from bs4 import BeautifulSoup\n",
    "import requests"
   ]
  },
  {
   "cell_type": "code",
   "execution_count": 2,
   "metadata": {},
   "outputs": [],
   "source": [
    "res = requests.get('https://retina.elpais.com/tag/tecnologia_financiera/a/')\n",
    "soup = BeautifulSoup(res.text, 'lxml')"
   ]
  },
  {
   "cell_type": "code",
   "execution_count": 328,
   "metadata": {},
   "outputs": [
    {
     "name": "stdout",
     "output_type": "stream",
     "text": [
      "[u'\\nFinanzas\\n', u'\\nEmprendedores\\n', u'\\nNegocio\\n', u\"\\n'Fintech'\\n\", u'\\nBanca\\n', u'\\nFirma invitada\\n', u'\\nFirma invitada\\n', u'\\nInnovaci\\xf3n\\n', u'\\nFirma invitada\\n', u'\\nFintech\\n', u'\\nFirma invitada\\n', u'\\nEmprendedores\\n', u\"\\n'Fintech'\\n\", u'\\nFintech\\n', u'\\nTaller\\n', u'\\nEmprendedores\\n', u'\\n#EventoRetina\\n', u'\\nFintech\\n', u'\\nFirma invitada\\n', u'\\nFintech\\n', u'\\nFinanzas\\n', u'\\nA golpe de Retina\\n', u'\\nSector financiero\\n', u'\\nEmprendedores\\n', u'\\nFinanzas\\n', u'\\nIdeas\\n', u'\\nIdeas\\n', u'\\nIdeas\\n', u'\\nFintech\\n', u'\\nFintech\\n', u'\\nIdeas\\n', u'\\nTransformaci\\xf3n digital\\n', u'\\nInternet\\n']\n",
      "33\n"
     ]
    }
   ],
   "source": [
    "#tag antetitulo - tipo de articulo \n",
    "art = soup.find_all('div', {'class':'articulo-antetitulo'})\n",
    "section = []\n",
    "for news in art:\n",
    "    new_section = news.text\n",
    "    section.append(new_section)\n",
    "print section\n",
    "print len(section)\n",
    "    "
   ]
  },
  {
   "cell_type": "code",
   "execution_count": null,
   "metadata": {},
   "outputs": [],
   "source": [
    "#tag enlace >> fecha\n",
    "art = soup.find_all('div', {'class':'enlace'})\n",
    "section = []\n",
    "for news in art:\n",
    "    new_link = news.text\n",
    "    section.append(new_section)\n",
    "print section\n",
    "print len(section)"
   ]
  },
  {
   "cell_type": "code",
   "execution_count": 27,
   "metadata": {},
   "outputs": [
    {
     "name": "stdout",
     "output_type": "stream",
     "text": [
      "[u'Creaven (Mastercard): \\u201cNo vemos a Google o Apple como competencia... de momento\\u201d ', u'\"Los bancos tienen que evolucionar: no deber\\xedan fabricar y vender el producto a la vez\" ', u'\\xc1ngel Cano: \\u201cLos gigantes de internet pueden dar un susto a la banca\\u201d ', u'\\u201cLos chinos se r\\xeden de nosotros, \\xa1ellos casi siempre pagan con el m\\xf3vil!\\u201d ', u'Inteligencia artificial para esquivar a los morosos ', u'\\u2018Blockchain\\u2019: la amenaza de la tiran\\xeda del c\\xf3digo y del algoritmo ', u'La cultura de emprendimiento de las \\u2018fintech\\u2019 atrae el talento digital ', u\"Las 'fintech' compiten por la atenci\\xf3n de los bancos \", u'\\xbfEst\\xe1 la banca tal y como la conocemos en v\\xedas de extinci\\xf3n? ', u'\\xbfEst\\xe1n los bancos preparados para compartir tus datos con terceros? ', u'La disrupci\\xf3n en la gesti\\xf3n de inversiones: lenta pero m\\xe1s pronunciada ', u'Jes\\xfas P\\xe9rez: \\u201cLa regulaci\\xf3n siempre va a ir por detr\\xe1s de la tecnolog\\xeda\\u201d ', u'Banca y fondos extranjeros quieren bancarizar M\\xe9xico invirtiendo en \\u2018startups\\u2019 ', u'Tu banco est\\xe1 celoso: no quiere m\\xe1s \\u2018screen scraping\\u2019 ', u'Apps de banca: objetivo, retener al usuario ', u'Argentina se bancariza con Ual\\xe1 ', u'La banca busca la f\\xf3rmula para dar con la \\u2018app\\u2019 que convenza al usuario ', u'La banca del futuro, predictiva y personalizada ', u'Lecciones desde Las Vegas: converger y moverse r\\xe1pido ', u'La banca quiere viajar del modelo de Kodak al de Uber ', u'SoFi, la cara oscura del fen\\xf3meno fintech ', u'Firmar documentos en papel tiene los d\\xedas contados ', u'Mi banco es ahora un robot ', u'Google busca las startups financieras de Am\\xe9rica Latina ', u'Las \\u2018fintech\\u2019 miran al futuro mientras los bancos zozobran ', u'La mayor compa\\xf1\\xeda de redes sociales no se comunica en redes sociales ', u'\\xbfTe preocupa m\\xe1s un coche que conduce solo o una m\\xe1quina que piensa sola? ', u'La inteligencia artificial tambi\\xe9n puede ser racista ', u'David Birch: \\u201cNo estamos cualificados para tomar algunas decisiones financieras: nuestro terminal ha de tomarlas por nosotros\\u201d ', u'La digitalizaci\\xf3n bancaria acecha a la tarjeta de cr\\xe9dito ', u'De solos de guitarra, espacio y trabajo desde casa ', u'Hola. Bienvenidos a EL PA\\xcdS RETINA ', u\"'Blockchain': la tecnolog\\xeda que va a cambiar tu vida \"]\n",
      "['https://retina.elpais.com/retina/2019/03/14/tendencias/1552583292_807562.html', 'https://retina.elpais.com/retina/2019/03/14/tendencias/1552583292_807562.html', 'https://retina.elpais.com/retina/2019/03/14/tendencias/1552583292_807562.html', 'https://retina.elpais.com/retina/2019/03/14/tendencias/1552583292_807562.html', 'https://retina.elpais.com/retina/2019/03/14/tendencias/1552583292_807562.html', 'https://retina.elpais.com/retina/2019/03/14/tendencias/1552583292_807562.html', 'https://retina.elpais.com/retina/2019/03/14/tendencias/1552583292_807562.html', 'https://retina.elpais.com/retina/2019/03/14/tendencias/1552583292_807562.html', 'https://retina.elpais.com/retina/2019/03/14/tendencias/1552583292_807562.html', 'https://retina.elpais.com/retina/2019/03/14/tendencias/1552583292_807562.html', 'https://retina.elpais.com/retina/2019/03/14/tendencias/1552583292_807562.html', 'https://retina.elpais.com/retina/2019/03/14/tendencias/1552583292_807562.html', 'https://retina.elpais.com/retina/2019/03/14/tendencias/1552583292_807562.html', 'https://retina.elpais.com/retina/2019/03/14/tendencias/1552583292_807562.html', 'https://retina.elpais.com/retina/2019/03/14/tendencias/1552583292_807562.html', 'https://retina.elpais.com/retina/2019/03/14/tendencias/1552583292_807562.html', 'https://retina.elpais.com/retina/2019/03/14/tendencias/1552583292_807562.html', 'https://retina.elpais.com/retina/2019/03/14/tendencias/1552583292_807562.html', 'https://retina.elpais.com/retina/2019/03/14/tendencias/1552583292_807562.html', 'https://retina.elpais.com/retina/2019/03/14/tendencias/1552583292_807562.html', 'https://retina.elpais.com/retina/2019/03/14/tendencias/1552583292_807562.html', 'https://retina.elpais.com/retina/2019/03/14/tendencias/1552583292_807562.html', 'https://retina.elpais.com/retina/2019/03/14/tendencias/1552583292_807562.html', 'https://retina.elpais.com/retina/2019/03/14/tendencias/1552583292_807562.html', 'https://retina.elpais.com/retina/2019/03/14/tendencias/1552583292_807562.html', 'https://retina.elpais.com/retina/2019/03/14/tendencias/1552583292_807562.html', 'https://retina.elpais.com/retina/2019/03/14/tendencias/1552583292_807562.html', 'https://retina.elpais.com/retina/2019/03/14/tendencias/1552583292_807562.html', 'https://retina.elpais.com/retina/2019/03/14/tendencias/1552583292_807562.html', 'https://retina.elpais.com/retina/2019/03/14/tendencias/1552583292_807562.html', 'https://retina.elpais.com/retina/2019/03/14/tendencias/1552583292_807562.html', 'https://retina.elpais.com/retina/2019/03/14/tendencias/1552583292_807562.html', 'https://retina.elpais.com/retina/2019/03/14/tendencias/1552583292_807562.html']\n",
      "['2019-03-20T07:45:07+01:00', '2019-03-20T07:45:07+01:00', '2019-03-20T07:45:07+01:00', '2019-03-20T07:45:07+01:00', '2019-03-20T07:45:07+01:00', '2019-03-20T07:45:07+01:00', '2019-03-20T07:45:07+01:00', '2019-03-20T07:45:07+01:00', '2019-03-20T07:45:07+01:00', '2019-03-20T07:45:07+01:00', '2019-03-20T07:45:07+01:00', '2019-03-20T07:45:07+01:00', '2019-03-20T07:45:07+01:00', '2019-03-20T07:45:07+01:00', '2019-03-20T07:45:07+01:00', '2019-03-20T07:45:07+01:00', '2019-03-20T07:45:07+01:00', '2019-03-20T07:45:07+01:00', '2019-03-20T07:45:07+01:00', '2019-03-20T07:45:07+01:00', '2019-03-20T07:45:07+01:00', '2019-03-20T07:45:07+01:00', '2019-03-20T07:45:07+01:00', '2019-03-20T07:45:07+01:00', '2019-03-20T07:45:07+01:00', '2019-03-20T07:45:07+01:00', '2019-03-20T07:45:07+01:00', '2019-03-20T07:45:07+01:00', '2019-03-20T07:45:07+01:00', '2019-03-20T07:45:07+01:00', '2019-03-20T07:45:07+01:00', '2019-03-20T07:45:07+01:00', '2019-03-20T07:45:07+01:00']\n"
     ]
    }
   ],
   "source": [
    "#nombre del articulo\n",
    "title_test = soup.find_all('h2', {'class': 'articulo-titulo'})\n",
    "title = []\n",
    "link = []\n",
    "date = []\n",
    "\n",
    "for word in title_test:\n",
    "    new_title = word.text\n",
    "    title.append(new_title)\n",
    "    \n",
    "#beafigueroa: Recoge el link al artículo y dentro del link recoge la fecha    \n",
    "    for children in soup.h2.children:\n",
    "        new_link = \"https://retina.elpais.com\"+children['href']\n",
    "        res_link = requests.get(new_link)\n",
    "        soup_link = BeautifulSoup(res_link.text, 'lxml')\n",
    "        new_date = soup_link.time['datetime']\n",
    "        link.append(new_link)\n",
    "        date.append(new_date)\n",
    "        \n",
    "print title\n",
    "print link\n",
    "print date"
   ]
  },
  {
   "cell_type": "code",
   "execution_count": 408,
   "metadata": {},
   "outputs": [
    {
     "name": "stdout",
     "output_type": "stream",
     "text": [
      "[u'\\nM. G. Pascual\\n', u'\\nTom\\xe1s L\\xf3pez Morales\\n', u'\\nRebeca Gimeno\\n', u'\\nJosep Cat\\xe0 Figuls\\n', u'\\nJorge G. Garc\\xeda\\n', u'\\nMois\\xe9s Barrio\\n', u'\\nGr\\xe9goire de Lestapis\\n', u'\\nJavier Cort\\xe9s\\n', u'\\nPablo Viguera\\n', u'\\nJavier Cort\\xe9s\\n', u'\\nMart\\xedn Huete\\n', u'\\nTom\\xe1s L\\xf3pez Morales\\n', u'\\nCarlos Caraba\\xf1a\\n', u'\\nTom\\xe1s L\\xf3pez Morales\\n', u'\\nEl Pa\\xeds Retina\\n', u'\\nRosa Jim\\xe9nez Cano\\n', u'\\nEl Pa\\xeds Retina\\n', u'\\nRosa Jim\\xe9nez Cano\\n', u'\\nCarlos Torres Vila\\n', u'\\nTom\\xe1s L\\xf3pez Morales\\n', u'\\nTom\\xe1s L\\xf3pez Morales\\n', u'\\nEl Pa\\xeds Retina\\n', u'\\nJorge G. Garc\\xeda\\n', u'\\nRosa Jim\\xe9nez Cano\\n', u'\\nManuel G. Pascual\\n', u'\\nGuillermo Vega\\n', u'\\nNu\\xf1o Rodrigo Palacios\\n', u'\\nGuillermo Vega\\n', u'\\nGuillermo Vega\\n', u'\\nNu\\xf1o Rodrigo Palacios\\n', u'\\nJavier Cort\\xe9s\\n', u'\\nGuillermo Vega\\n', u'\\nGuillermo Vega\\n', u'\\nEl Pa\\xeds Retina\\n', u'\\nGuillermo Vega\\n', u'\\nOlivia L\\xf3pez Bueno\\n']\n"
     ]
    }
   ],
   "source": [
    "#nombre del autor\n",
    "autor_test = soup.find_all('span', {'class':'autor-nombre'})\n",
    "autor = []\n",
    "for name in autor_test:\n",
    "    new_name = name.text\n",
    "    autor.append(new_name)\n",
    "print autor\n"
   ]
  },
  {
   "cell_type": "code",
   "execution_count": null,
   "metadata": {},
   "outputs": [],
   "source": []
  }
 ],
 "metadata": {
  "kernelspec": {
   "display_name": "Python 2",
   "language": "python",
   "name": "python2"
  },
  "language_info": {
   "codemirror_mode": {
    "name": "ipython",
    "version": 2
   },
   "file_extension": ".py",
   "mimetype": "text/x-python",
   "name": "python",
   "nbconvert_exporter": "python",
   "pygments_lexer": "ipython2",
   "version": "2.7.15"
  }
 },
 "nbformat": 4,
 "nbformat_minor": 2
}
