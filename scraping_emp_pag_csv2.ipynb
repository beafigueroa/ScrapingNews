{
 "cells": [
  {
   "cell_type": "code",
   "execution_count": 2,
   "metadata": {},
   "outputs": [],
   "source": [
    "from bs4 import BeautifulSoup\n",
    "import requests"
   ]
  },
  {
   "cell_type": "code",
   "execution_count": 3,
   "metadata": {},
   "outputs": [],
   "source": [
    "#retina - emprendimiento\n",
    "url = 'https://retina.elpais.com/tag/iniciativa_empresarial/a/'\n"
   ]
  },
  {
   "cell_type": "code",
   "execution_count": 15,
   "metadata": {},
   "outputs": [
    {
     "name": "stdout",
     "output_type": "stream",
     "text": [
      "5 [0, 1, 2, 3, 4, 5]\n",
      "33\n",
      "33\n",
      "33\n",
      "33\n",
      "34\n"
     ]
    }
   ],
   "source": [
    "index = ['0', '1']\n",
    "title = []\n",
    "link = []\n",
    "date = []\n",
    "section = []\n",
    "autor = []\n",
    "\n",
    "#beafigueroa: Buscamos el botón >\n",
    "res_pag = requests.get(url)\n",
    "soup_pag = BeautifulSoup(res_pag.text, 'lxml')\n",
    "\n",
    "#El botón está en <li class=\"paginacion-siguiente activo\"><a href=\"XXXXXXX\">Siguiente ›</a></li>\n",
    "link_pag = soup_pag.find('li', {'class': 'paginacion-siguiente activo'}).a['href'] \n",
    "\n",
    "#Al final de la cadena del link está el número de páginas que tiene la sección\n",
    "num_pag = int(link_pag.split('/')[-1])\n",
    "index = range(num_pag+1) #El orden real de páginas tendría que ser [0,5,4,3,2,1] pero así funciona.\n",
    "print num_pag, index\n",
    "\n",
    "#Para PRUEBAS, solo una página.\n",
    "index = ['0']\n",
    "\n",
    "for number in index:\n",
    "    res = requests.get(url+str(number)) #beafigueroa: Index ahora tiene int, para concatenar lo cambio a str\n",
    "    soup = BeautifulSoup(res.text, 'lxml')\n",
    "    \n",
    "    title_test = soup.find_all('h2', {'class': 'articulo-titulo'})\n",
    "\n",
    "\n",
    "    for word in title_test:\n",
    "        new_title = word.text\n",
    "        title.append(new_title)\n",
    "        #beafigueroa: Recoge el link al artículo y dentro del link recoge la fecha    \n",
    "        new_link = \"https://retina.elpais.com\"+word.a['href'] \n",
    "        res_link = requests.get(new_link)\n",
    "        soup_link = BeautifulSoup(res_link.text, 'lxml')\n",
    "        new_date = soup_link.time['datetime']\n",
    "        link.append(new_link)\n",
    "        date.append(new_date)\n",
    "    \n",
    "    art = soup.find_all('div', {'class':'articulo-antetitulo'})\n",
    "\n",
    "    for news in art:\n",
    "        new_section = news.text\n",
    "        section.append(new_section.replace(\"\\n\", \"\")) #le quitamos \\n para que no salte de línea el csv\n",
    "        \n",
    "    autor_test = soup.find_all('div', {'class':'autor-texto'})\n",
    "\n",
    "    for name in autor_test:\n",
    "        new_name = name.text\n",
    "        autor.append(new_name.replace(\"\\n\", \"\")) #le quitamos \\n para que no salte de línea el csv\n",
    "  \n",
    "\n",
    "print len(title)\n",
    "print len(link)\n",
    "print len(date)\n",
    "print len(section)\n",
    "print len(autor)\n"
   ]
  },
  {
   "cell_type": "code",
   "execution_count": 5,
   "metadata": {},
   "outputs": [],
   "source": [
    "# ¡¡FUNCIONA PARA PASAR A XLS!! Falta autor\n",
    "\n",
    "import pandas as pd\n",
    "data = {'Title':title, \n",
    "        'PageLink':link,\n",
    "        'Date':date,\n",
    "        'Section':section\n",
    "        }\n",
    "#        'Author':autor\n",
    "news = pd.DataFrame(data=data)\n",
    "news.head(5)\n",
    "#cols = ['Title', 'PageLink', 'Date', 'Section', 'Author']\n",
    "cols = ['Title', 'PageLink', 'Date', 'Section']\n",
    "news = news[cols]\n",
    "#retina_news = oldnews.append(news)\n",
    "retina_news = news\n",
    "filename = 'retina_news1.xlsx'\n",
    "wks_name = 'Data'\n",
    "writer = pd.ExcelWriter(filename)\n",
    "retina_news.to_excel(writer, wks_name, index=False)\n",
    "writer.save()"
   ]
  },
  {
   "cell_type": "code",
   "execution_count": 16,
   "metadata": {},
   "outputs": [],
   "source": [
    "# ¡¡FUNCIONA PARA PASAR A CSV!! Falta autor\n",
    "\n",
    "import pandas as pd\n",
    "import csv\n",
    "data = {'Title':title, \n",
    "        'PageLink':link,\n",
    "        'Date':date,\n",
    "        'Section':section\n",
    "        }\n",
    "#        'Author':autor\n",
    "\n",
    "news = pd.DataFrame(data=data)\n",
    "\n",
    "#cols = ['Title', 'PageLink', 'Date', 'Section', 'Author']\n",
    "cols = ['Title', 'PageLink', 'Date', 'Section']\n",
    "news = news[cols]\n",
    "\n",
    "filename = 'retina_news.csv'\n",
    "\n",
    "news.to_csv(filename, index=False, encoding='utf-8-sig', header=True, sep='|')\n"
   ]
  },
  {
   "cell_type": "code",
   "execution_count": null,
   "metadata": {},
   "outputs": [],
   "source": []
  }
 ],
 "metadata": {
  "kernelspec": {
   "display_name": "Python 2",
   "language": "python",
   "name": "python2"
  },
  "language_info": {
   "codemirror_mode": {
    "name": "ipython",
    "version": 2
   },
   "file_extension": ".py",
   "mimetype": "text/x-python",
   "name": "python",
   "nbconvert_exporter": "python",
   "pygments_lexer": "ipython2",
   "version": "2.7.15"
  }
 },
 "nbformat": 4,
 "nbformat_minor": 2
}
